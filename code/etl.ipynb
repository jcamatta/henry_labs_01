{
 "cells": [
  {
   "cell_type": "markdown",
   "id": "d5b0b2c8",
   "metadata": {},
   "source": [
    "Este codigo aplica la primera parte del ETL. En particular se realiza lo siguiente:\n",
    "- Desanidar valores en columnas\n",
    "- Relleno de valores nulos\n",
    "- Crear columna release_year\n",
    "- Crear columna return\n",
    "- Eliminar columnas que no se utilizan \n",
    "\n",
    "Al finalizar, se almacena el dataset nuevo como 'movies_etl.csv'\n",
    "\n",
    "Por lo demas, el codigo esta debidamente documentado con comentarios que explican lo que se realizo en cada caso."
   ]
  },
  {
   "cell_type": "code",
   "execution_count": 1,
   "id": "ea5c2cb3",
   "metadata": {},
   "outputs": [],
   "source": [
    "import pandas as pd\n",
    "import ast # esto es para usar ast.literal_eval sobre str en formato dict/list/int/float\n",
    "import numpy as np"
   ]
  },
  {
   "cell_type": "code",
   "execution_count": 2,
   "id": "3f348aa9",
   "metadata": {},
   "outputs": [],
   "source": [
    "path = '../data/movies_dataset.csv'\n",
    "original = pd.read_csv(path, low_memory=False)\n",
    "modify = original.copy()"
   ]
  },
  {
   "cell_type": "code",
   "execution_count": 3,
   "id": "3bfb1e5e",
   "metadata": {},
   "outputs": [
    {
     "data": {
      "text/html": [
       "<div>\n",
       "<style scoped>\n",
       "    .dataframe tbody tr th:only-of-type {\n",
       "        vertical-align: middle;\n",
       "    }\n",
       "\n",
       "    .dataframe tbody tr th {\n",
       "        vertical-align: top;\n",
       "    }\n",
       "\n",
       "    .dataframe thead th {\n",
       "        text-align: right;\n",
       "    }\n",
       "</style>\n",
       "<table border=\"1\" class=\"dataframe\">\n",
       "  <thead>\n",
       "    <tr style=\"text-align: right;\">\n",
       "      <th></th>\n",
       "      <th>adult</th>\n",
       "      <th>belongs_to_collection</th>\n",
       "      <th>budget</th>\n",
       "      <th>genres</th>\n",
       "      <th>homepage</th>\n",
       "      <th>id</th>\n",
       "      <th>imdb_id</th>\n",
       "      <th>original_language</th>\n",
       "      <th>original_title</th>\n",
       "      <th>overview</th>\n",
       "      <th>...</th>\n",
       "      <th>release_date</th>\n",
       "      <th>revenue</th>\n",
       "      <th>runtime</th>\n",
       "      <th>spoken_languages</th>\n",
       "      <th>status</th>\n",
       "      <th>tagline</th>\n",
       "      <th>title</th>\n",
       "      <th>video</th>\n",
       "      <th>vote_average</th>\n",
       "      <th>vote_count</th>\n",
       "    </tr>\n",
       "  </thead>\n",
       "  <tbody>\n",
       "    <tr>\n",
       "      <th>0</th>\n",
       "      <td>False</td>\n",
       "      <td>{'id': 10194, 'name': 'Toy Story Collection', ...</td>\n",
       "      <td>30000000</td>\n",
       "      <td>[{'id': 16, 'name': 'Animation'}, {'id': 35, '...</td>\n",
       "      <td>http://toystory.disney.com/toy-story</td>\n",
       "      <td>862</td>\n",
       "      <td>tt0114709</td>\n",
       "      <td>en</td>\n",
       "      <td>Toy Story</td>\n",
       "      <td>Led by Woody, Andy's toys live happily in his ...</td>\n",
       "      <td>...</td>\n",
       "      <td>1995-10-30</td>\n",
       "      <td>373554033.0</td>\n",
       "      <td>81.0</td>\n",
       "      <td>[{'iso_639_1': 'en', 'name': 'English'}]</td>\n",
       "      <td>Released</td>\n",
       "      <td>NaN</td>\n",
       "      <td>Toy Story</td>\n",
       "      <td>False</td>\n",
       "      <td>7.7</td>\n",
       "      <td>5415.0</td>\n",
       "    </tr>\n",
       "    <tr>\n",
       "      <th>1</th>\n",
       "      <td>False</td>\n",
       "      <td>NaN</td>\n",
       "      <td>65000000</td>\n",
       "      <td>[{'id': 12, 'name': 'Adventure'}, {'id': 14, '...</td>\n",
       "      <td>NaN</td>\n",
       "      <td>8844</td>\n",
       "      <td>tt0113497</td>\n",
       "      <td>en</td>\n",
       "      <td>Jumanji</td>\n",
       "      <td>When siblings Judy and Peter discover an encha...</td>\n",
       "      <td>...</td>\n",
       "      <td>1995-12-15</td>\n",
       "      <td>262797249.0</td>\n",
       "      <td>104.0</td>\n",
       "      <td>[{'iso_639_1': 'en', 'name': 'English'}, {'iso...</td>\n",
       "      <td>Released</td>\n",
       "      <td>Roll the dice and unleash the excitement!</td>\n",
       "      <td>Jumanji</td>\n",
       "      <td>False</td>\n",
       "      <td>6.9</td>\n",
       "      <td>2413.0</td>\n",
       "    </tr>\n",
       "    <tr>\n",
       "      <th>2</th>\n",
       "      <td>False</td>\n",
       "      <td>{'id': 119050, 'name': 'Grumpy Old Men Collect...</td>\n",
       "      <td>0</td>\n",
       "      <td>[{'id': 10749, 'name': 'Romance'}, {'id': 35, ...</td>\n",
       "      <td>NaN</td>\n",
       "      <td>15602</td>\n",
       "      <td>tt0113228</td>\n",
       "      <td>en</td>\n",
       "      <td>Grumpier Old Men</td>\n",
       "      <td>A family wedding reignites the ancient feud be...</td>\n",
       "      <td>...</td>\n",
       "      <td>1995-12-22</td>\n",
       "      <td>0.0</td>\n",
       "      <td>101.0</td>\n",
       "      <td>[{'iso_639_1': 'en', 'name': 'English'}]</td>\n",
       "      <td>Released</td>\n",
       "      <td>Still Yelling. Still Fighting. Still Ready for...</td>\n",
       "      <td>Grumpier Old Men</td>\n",
       "      <td>False</td>\n",
       "      <td>6.5</td>\n",
       "      <td>92.0</td>\n",
       "    </tr>\n",
       "    <tr>\n",
       "      <th>3</th>\n",
       "      <td>False</td>\n",
       "      <td>NaN</td>\n",
       "      <td>16000000</td>\n",
       "      <td>[{'id': 35, 'name': 'Comedy'}, {'id': 18, 'nam...</td>\n",
       "      <td>NaN</td>\n",
       "      <td>31357</td>\n",
       "      <td>tt0114885</td>\n",
       "      <td>en</td>\n",
       "      <td>Waiting to Exhale</td>\n",
       "      <td>Cheated on, mistreated and stepped on, the wom...</td>\n",
       "      <td>...</td>\n",
       "      <td>1995-12-22</td>\n",
       "      <td>81452156.0</td>\n",
       "      <td>127.0</td>\n",
       "      <td>[{'iso_639_1': 'en', 'name': 'English'}]</td>\n",
       "      <td>Released</td>\n",
       "      <td>Friends are the people who let you be yourself...</td>\n",
       "      <td>Waiting to Exhale</td>\n",
       "      <td>False</td>\n",
       "      <td>6.1</td>\n",
       "      <td>34.0</td>\n",
       "    </tr>\n",
       "    <tr>\n",
       "      <th>4</th>\n",
       "      <td>False</td>\n",
       "      <td>{'id': 96871, 'name': 'Father of the Bride Col...</td>\n",
       "      <td>0</td>\n",
       "      <td>[{'id': 35, 'name': 'Comedy'}]</td>\n",
       "      <td>NaN</td>\n",
       "      <td>11862</td>\n",
       "      <td>tt0113041</td>\n",
       "      <td>en</td>\n",
       "      <td>Father of the Bride Part II</td>\n",
       "      <td>Just when George Banks has recovered from his ...</td>\n",
       "      <td>...</td>\n",
       "      <td>1995-02-10</td>\n",
       "      <td>76578911.0</td>\n",
       "      <td>106.0</td>\n",
       "      <td>[{'iso_639_1': 'en', 'name': 'English'}]</td>\n",
       "      <td>Released</td>\n",
       "      <td>Just When His World Is Back To Normal... He's ...</td>\n",
       "      <td>Father of the Bride Part II</td>\n",
       "      <td>False</td>\n",
       "      <td>5.7</td>\n",
       "      <td>173.0</td>\n",
       "    </tr>\n",
       "  </tbody>\n",
       "</table>\n",
       "<p>5 rows × 24 columns</p>\n",
       "</div>"
      ],
      "text/plain": [
       "   adult                              belongs_to_collection    budget   \n",
       "0  False  {'id': 10194, 'name': 'Toy Story Collection', ...  30000000  \\\n",
       "1  False                                                NaN  65000000   \n",
       "2  False  {'id': 119050, 'name': 'Grumpy Old Men Collect...         0   \n",
       "3  False                                                NaN  16000000   \n",
       "4  False  {'id': 96871, 'name': 'Father of the Bride Col...         0   \n",
       "\n",
       "                                              genres   \n",
       "0  [{'id': 16, 'name': 'Animation'}, {'id': 35, '...  \\\n",
       "1  [{'id': 12, 'name': 'Adventure'}, {'id': 14, '...   \n",
       "2  [{'id': 10749, 'name': 'Romance'}, {'id': 35, ...   \n",
       "3  [{'id': 35, 'name': 'Comedy'}, {'id': 18, 'nam...   \n",
       "4                     [{'id': 35, 'name': 'Comedy'}]   \n",
       "\n",
       "                               homepage     id    imdb_id original_language   \n",
       "0  http://toystory.disney.com/toy-story    862  tt0114709                en  \\\n",
       "1                                   NaN   8844  tt0113497                en   \n",
       "2                                   NaN  15602  tt0113228                en   \n",
       "3                                   NaN  31357  tt0114885                en   \n",
       "4                                   NaN  11862  tt0113041                en   \n",
       "\n",
       "                original_title   \n",
       "0                    Toy Story  \\\n",
       "1                      Jumanji   \n",
       "2             Grumpier Old Men   \n",
       "3            Waiting to Exhale   \n",
       "4  Father of the Bride Part II   \n",
       "\n",
       "                                            overview  ... release_date   \n",
       "0  Led by Woody, Andy's toys live happily in his ...  ...   1995-10-30  \\\n",
       "1  When siblings Judy and Peter discover an encha...  ...   1995-12-15   \n",
       "2  A family wedding reignites the ancient feud be...  ...   1995-12-22   \n",
       "3  Cheated on, mistreated and stepped on, the wom...  ...   1995-12-22   \n",
       "4  Just when George Banks has recovered from his ...  ...   1995-02-10   \n",
       "\n",
       "       revenue runtime                                   spoken_languages   \n",
       "0  373554033.0    81.0           [{'iso_639_1': 'en', 'name': 'English'}]  \\\n",
       "1  262797249.0   104.0  [{'iso_639_1': 'en', 'name': 'English'}, {'iso...   \n",
       "2          0.0   101.0           [{'iso_639_1': 'en', 'name': 'English'}]   \n",
       "3   81452156.0   127.0           [{'iso_639_1': 'en', 'name': 'English'}]   \n",
       "4   76578911.0   106.0           [{'iso_639_1': 'en', 'name': 'English'}]   \n",
       "\n",
       "     status                                            tagline   \n",
       "0  Released                                                NaN  \\\n",
       "1  Released          Roll the dice and unleash the excitement!   \n",
       "2  Released  Still Yelling. Still Fighting. Still Ready for...   \n",
       "3  Released  Friends are the people who let you be yourself...   \n",
       "4  Released  Just When His World Is Back To Normal... He's ...   \n",
       "\n",
       "                         title  video vote_average vote_count  \n",
       "0                    Toy Story  False          7.7     5415.0  \n",
       "1                      Jumanji  False          6.9     2413.0  \n",
       "2             Grumpier Old Men  False          6.5       92.0  \n",
       "3            Waiting to Exhale  False          6.1       34.0  \n",
       "4  Father of the Bride Part II  False          5.7      173.0  \n",
       "\n",
       "[5 rows x 24 columns]"
      ]
     },
     "execution_count": 3,
     "metadata": {},
     "output_type": "execute_result"
    }
   ],
   "source": [
    "modify.head()"
   ]
  },
  {
   "cell_type": "code",
   "execution_count": 4,
   "id": "aefee427",
   "metadata": {},
   "outputs": [
    {
     "name": "stdout",
     "output_type": "stream",
     "text": [
      "<class 'pandas.core.frame.DataFrame'>\n",
      "RangeIndex: 45466 entries, 0 to 45465\n",
      "Data columns (total 24 columns):\n",
      " #   Column                 Non-Null Count  Dtype  \n",
      "---  ------                 --------------  -----  \n",
      " 0   adult                  45466 non-null  object \n",
      " 1   belongs_to_collection  4494 non-null   object \n",
      " 2   budget                 45466 non-null  object \n",
      " 3   genres                 45466 non-null  object \n",
      " 4   homepage               7782 non-null   object \n",
      " 5   id                     45466 non-null  object \n",
      " 6   imdb_id                45449 non-null  object \n",
      " 7   original_language      45455 non-null  object \n",
      " 8   original_title         45466 non-null  object \n",
      " 9   overview               44512 non-null  object \n",
      " 10  popularity             45461 non-null  object \n",
      " 11  poster_path            45080 non-null  object \n",
      " 12  production_companies   45463 non-null  object \n",
      " 13  production_countries   45463 non-null  object \n",
      " 14  release_date           45379 non-null  object \n",
      " 15  revenue                45460 non-null  float64\n",
      " 16  runtime                45203 non-null  float64\n",
      " 17  spoken_languages       45460 non-null  object \n",
      " 18  status                 45379 non-null  object \n",
      " 19  tagline                20412 non-null  object \n",
      " 20  title                  45460 non-null  object \n",
      " 21  video                  45460 non-null  object \n",
      " 22  vote_average           45460 non-null  float64\n",
      " 23  vote_count             45460 non-null  float64\n",
      "dtypes: float64(4), object(20)\n",
      "memory usage: 8.3+ MB\n"
     ]
    }
   ],
   "source": [
    "modify.info()"
   ]
  },
  {
   "cell_type": "markdown",
   "id": "a28dea7a",
   "metadata": {},
   "source": [
    "**Transformaciones**:\n",
    "\n",
    "1. Algunos campos, como belongs_to_collection, production_companies y otros (ver diccionario de datos) están anidados, esto es o bien tienen un diccionario o una lista como valores en cada fila, ¡deberán desanidarlos para poder y unirlos al dataset de nuevo hacer alguna de las consultas de la API! O bien buscar la manera de acceder a esos datos sin desanidarlos.\n",
    "\n",
    "2. Los valores nulos de los campos revenue, budget deben ser rellenados por el número 0.\n",
    "\n",
    "3. De haber fechas, deberán tener el formato AAAA-mm-dd, además deberán crear la columna release_year donde extraerán el año de la fecha de estreno.\n",
    "\n",
    "4. Crear la columna con el retorno de inversión, llamada return con los campos revenue y budget, dividiendo estas dos últimas revenue / budget, cuando no hay datos disponibles para calcularlo, deberá tomar el valor 0.\n",
    "\n",
    "5. Eliminar las columnas que no serán utilizadas, video,imdb_id,adult,original_title,vote_count,poster_path y homepage.\n",
    "\n"
   ]
  },
  {
   "cell_type": "code",
   "execution_count": 5,
   "id": "668b285a",
   "metadata": {},
   "outputs": [
    {
     "data": {
      "text/plain": [
       "(45466, 24)"
      ]
     },
     "execution_count": 5,
     "metadata": {},
     "output_type": "execute_result"
    }
   ],
   "source": [
    "modify.shape"
   ]
  },
  {
   "cell_type": "markdown",
   "id": "19bb39a2",
   "metadata": {},
   "source": [
    "Columnas con valores anidados\n",
    "\n",
    "belongs_to_collection\n",
    "genres\n",
    "production_companies\n",
    "production_countries\n",
    "spoken_languages"
   ]
  },
  {
   "cell_type": "code",
   "execution_count": 6,
   "id": "edb39553",
   "metadata": {},
   "outputs": [],
   "source": [
    "dict_columns = ['belongs_to_collection', 'genres', 'production_companies', 'production_countries', 'spoken_languages']"
   ]
  },
  {
   "cell_type": "code",
   "execution_count": 7,
   "id": "d70fb352",
   "metadata": {},
   "outputs": [
    {
     "name": "stdout",
     "output_type": "stream",
     "text": [
      "{'id': 96871, 'name': 'Father of the Bride Collection', 'poster_path': '/nts4iOmNnq7GNicycMJ9pSAn204.jpg', 'backdrop_path': '/7qwE57OVZmMJChBpLEbJEmzUydk.jpg'}\n",
      "[{'id': 35, 'name': 'Comedy'}]\n",
      "[{'name': 'Sandollar Productions', 'id': 5842}, {'name': 'Touchstone Pictures', 'id': 9195}]\n",
      "[{'iso_3166_1': 'US', 'name': 'United States of America'}]\n",
      "[{'iso_639_1': 'en', 'name': 'English'}]\n"
     ]
    }
   ],
   "source": [
    "# ejemplo de formato\n",
    "\n",
    "for c in dict_columns:\n",
    "    print(modify.loc[4, c])\n",
    "    \n",
    "# hay dos formas: o bien es una lista de diccionarios, o bien es un diccionario. \n",
    "# Estos dos tipos lo contempla la funcion de abajo"
   ]
  },
  {
   "cell_type": "code",
   "execution_count": 8,
   "id": "b2f15139",
   "metadata": {},
   "outputs": [],
   "source": [
    "def extract_name(value):\n",
    "    ''' extrae de los valores anidados, el valor del campo \"name\" ''' \n",
    "    output = []\n",
    "    try:\n",
    "        value = ast.literal_eval(value)\n",
    "        if isinstance(value, list):\n",
    "            for dictionary in value:\n",
    "                output.append(dictionary['name'])\n",
    "        elif isinstance(value, dict):\n",
    "            output.append(value['name'])\n",
    "    finally:\n",
    "        for i in range(len(output)):\n",
    "            output[i] = output[i].lower()\n",
    "        return output\n",
    "    \n",
    "def extract_iso(value):\n",
    "    ''' extrae de los valores anidados, el valor del campo \"iso\" ''' \n",
    "    output = []\n",
    "    try:\n",
    "        value = ast.literal_eval(value)\n",
    "        if isinstance(value, list):\n",
    "            for dictionary in value:\n",
    "                for key, value in dictionary.items():\n",
    "                    if 'iso' in key:\n",
    "                        output.append(value)\n",
    "    finally:\n",
    "        for i in range(len(output)):\n",
    "            output[i] = output[i].lower()\n",
    "        return output\n",
    "    \n",
    "def is_float(column):\n",
    "    ''' chequea si existe algun valor en column que tenga decimales ''' \n",
    "    for v in column:\n",
    "        try:\n",
    "            test = v - int(v)\n",
    "            if test > 0:\n",
    "                return True\n",
    "        except:\n",
    "            continue\n",
    "    return False\n",
    "\n",
    "def type_data(value):\n",
    "    ''' convierte datos de tipo str a float/int '''\n",
    "    try:\n",
    "        return ast.literal_eval(value)\n",
    "    except:\n",
    "        print(value)\n",
    "        return np.nan"
   ]
  },
  {
   "cell_type": "code",
   "execution_count": 9,
   "id": "88b85a96",
   "metadata": {},
   "outputs": [],
   "source": [
    "# extraemos los valores anidados y creamos nuevas columnas con el sufijo \"_mod\"\n",
    "for c in dict_columns:\n",
    "    modify[c + '_mod'] = modify[c].apply(extract_name)"
   ]
  },
  {
   "cell_type": "code",
   "execution_count": 10,
   "id": "6883102e",
   "metadata": {},
   "outputs": [],
   "source": [
    "# extraemos los valores anidados y creamos nuevas columnas con el sufijo \"_iso\"\n",
    "for c in dict_columns[-2:]:\n",
    "    modify[c + '_iso'] = modify[c].apply(extract_iso)"
   ]
  },
  {
   "cell_type": "code",
   "execution_count": 11,
   "id": "e42d92b5",
   "metadata": {},
   "outputs": [
    {
     "name": "stdout",
     "output_type": "stream",
     "text": [
      "False\n",
      "False\n",
      "False\n"
     ]
    }
   ],
   "source": [
    "# chequeamos si tiene valores flotantes o no las siguientes columnas\n",
    "print(is_float(modify.budget))\n",
    "print(is_float(modify.revenue))\n",
    "print(is_float(modify.popularity))"
   ]
  },
  {
   "cell_type": "code",
   "execution_count": 12,
   "id": "96f17be7",
   "metadata": {},
   "outputs": [
    {
     "name": "stdout",
     "output_type": "stream",
     "text": [
      "antes de la transf: 0\n",
      "/ff9qCepilowshEtG2GYWwzt2bs4.jpg\n",
      "/zV8bHuSL6WXoD6FWogP9j4x80bL.jpg\n",
      "/zaSf5OG7V8X8gqFvly88zDdRm46.jpg\n",
      "despues de la transf: 0\n"
     ]
    }
   ],
   "source": [
    "# columna budget\n",
    "\n",
    "# chequeamos el numero de valores faltantes\n",
    "print('antes de la transf:', modify.budget.isnull().sum())\n",
    "\n",
    "# convertimos el str a valor numerico usando type_data()\n",
    "modify.budget = modify.budget.apply(type_data)\n",
    "\n",
    "# llenamos los valores faltantes con 0 y convertimos la columna a \"int\"\n",
    "modify.budget = modify.budget.fillna(0).astype('int')\n",
    "\n",
    "# confirmamos la operacion\n",
    "print('despues de la transf:', modify.budget.isnull().sum())"
   ]
  },
  {
   "cell_type": "code",
   "execution_count": 13,
   "id": "d51154bb",
   "metadata": {},
   "outputs": [],
   "source": [
    "# columna revenue\n",
    "\n",
    "# llenamos los valores faltantes con 0 y convertimos la columna a \"int\"\n",
    "modify.revenue = modify.revenue.fillna(0).astype('int')\n",
    "\n",
    "# convertimos los valores negativos a positivo (es 1 solo)\n",
    "modify.revenue = modify.revenue.apply(lambda v: v if v > 0 else v * (-1))"
   ]
  },
  {
   "cell_type": "code",
   "execution_count": 14,
   "id": "d3722364",
   "metadata": {},
   "outputs": [
    {
     "name": "stdout",
     "output_type": "stream",
     "text": [
      "nan\n",
      "nan\n",
      "nan\n",
      "nan\n",
      "nan\n",
      "Beware Of Frost Bites\n"
     ]
    }
   ],
   "source": [
    "# columna popularity\n",
    "\n",
    "# convertimos los valores str a float.\n",
    "modify.popularity = modify.popularity.apply(type_data)"
   ]
  },
  {
   "cell_type": "code",
   "execution_count": 15,
   "id": "91aa6eb6",
   "metadata": {},
   "outputs": [],
   "source": [
    "def date_data(value):\n",
    "    ''' \n",
    "    chequea si el valor es de tipo date:\n",
    "        si es, lo devuelve value\n",
    "        si no es, devuelve NA\n",
    "    '''\n",
    "    try:\n",
    "        year, month, day = value.split('-')\n",
    "        return value\n",
    "    except:\n",
    "        return np.nan"
   ]
  },
  {
   "cell_type": "code",
   "execution_count": 16,
   "id": "c50e3e3a",
   "metadata": {},
   "outputs": [
    {
     "name": "stdout",
     "output_type": "stream",
     "text": [
      "ejemplo fecha: 1995-10-30\n",
      "87\n",
      "90\n"
     ]
    }
   ],
   "source": [
    "# columna release_date\n",
    "\n",
    "# ejemplo de formato fecha\n",
    "\n",
    "print('ejemplo fecha:', modify.release_date[0])\n",
    "\n",
    "# numero de nulos para release_date sin modificacion.\n",
    "print(modify.release_date.isnull().sum())\n",
    "\n",
    "# convierte a NA todos los valores sin el formato fecha.\n",
    "modify.release_date = modify.release_date.apply(date_data)\n",
    "\n",
    "# convierte la columna a datetime\n",
    "modify.release_date = pd.to_datetime(modify.release_date)\n",
    "\n",
    "# numero de nulos nuevos\n",
    "print(modify.release_date.isnull().sum())\n",
    "\n",
    "# eliminamos las filas con nulos\n",
    "modify = modify.dropna(axis=0, subset=['release_date'])"
   ]
  },
  {
   "cell_type": "code",
   "execution_count": 17,
   "id": "3985350c",
   "metadata": {},
   "outputs": [],
   "source": [
    "# creamos una columna llamada release_year, que contiene el anio de estreno\n",
    "modify['release_year'] = modify.release_date.dt.year"
   ]
  },
  {
   "cell_type": "code",
   "execution_count": 18,
   "id": "16bd5c7b",
   "metadata": {},
   "outputs": [],
   "source": [
    "# creamos la columna return: porcentaje de ganancia respecto de lo invertido.\n",
    "\n",
    "modify['return'] = modify.revenue / modify.budget\n",
    "modify['return'] = modify['return'].replace([np.inf, -np.inf], np.nan)\n",
    "modify['return'] = modify['return'].fillna(0)"
   ]
  },
  {
   "cell_type": "code",
   "execution_count": 19,
   "id": "713256ed",
   "metadata": {},
   "outputs": [],
   "source": [
    "# columna id\n",
    "\n",
    "modify.id = modify.id.apply(type_data)"
   ]
  },
  {
   "cell_type": "code",
   "execution_count": 20,
   "id": "f7367f71",
   "metadata": {},
   "outputs": [
    {
     "data": {
      "text/plain": [
       "Index(['adult', 'belongs_to_collection', 'budget', 'genres', 'homepage', 'id',\n",
       "       'imdb_id', 'original_language', 'original_title', 'overview',\n",
       "       'popularity', 'poster_path', 'production_companies',\n",
       "       'production_countries', 'release_date', 'revenue', 'runtime',\n",
       "       'spoken_languages', 'status', 'tagline', 'title', 'video',\n",
       "       'vote_average', 'vote_count', 'belongs_to_collection_mod', 'genres_mod',\n",
       "       'production_companies_mod', 'production_countries_mod',\n",
       "       'spoken_languages_mod', 'production_countries_iso',\n",
       "       'spoken_languages_iso', 'release_year', 'return'],\n",
       "      dtype='object')"
      ]
     },
     "execution_count": 20,
     "metadata": {},
     "output_type": "execute_result"
    }
   ],
   "source": [
    "# observamos las columnas que tenemos, asi decidimos cual eliminamos y con cual nos quedamos\n",
    "\n",
    "modify.columns"
   ]
  },
  {
   "cell_type": "code",
   "execution_count": 21,
   "id": "aa0df5e2",
   "metadata": {},
   "outputs": [],
   "source": [
    "# eliminamos las columnas que no vamos a utilizar\n",
    "\n",
    "columnas=['video', 'imdb_id', 'adult', 'original_title', 'vote_count', 'poster_path', 'homepage',\n",
    "          'belongs_to_collection', 'genres', 'production_companies', 'production_countries', 'spoken_languages']\n",
    "\n",
    "# creamos un nuevo dataframe, que es el que vamos a almacenar.\n",
    "output = modify.drop(columns=columnas)"
   ]
  },
  {
   "cell_type": "code",
   "execution_count": 22,
   "id": "e68b3b11",
   "metadata": {},
   "outputs": [],
   "source": [
    "# convertimos las columnas a su dtype adecuado\n",
    "\n",
    "# no lo hacemos para overview ya que vamos a aplicar nlp, y las mayusculas pueden ayudar al modelo a entender el contexto.\n",
    "str_columns = ['original_language', 'status', 'tagline', 'title'] # overview\n",
    "int_columns = ['budget', 'id', 'revenue', 'runtime', 'release_year']\n",
    "float_columns = ['popularity', 'vote_average', 'return']\n",
    "\n",
    "for c in str_columns:\n",
    "    output[c] = output[c].str.lower()\n",
    "    \n",
    "# for c in int_columns:\n",
    "#     output[c] = output[c].astype('int32', errors='ignore')\n",
    "    \n",
    "for c in float_columns:\n",
    "    output[c] = output[c].astype('float64')"
   ]
  },
  {
   "cell_type": "code",
   "execution_count": 23,
   "id": "271e64f3",
   "metadata": {},
   "outputs": [],
   "source": [
    "# modificamos el nombre de algunas columnas\n",
    "\n",
    "output = output.rename(columns=dict(\n",
    "            belongs_to_collection_mod='belongs_to_collection',\n",
    "            genres_mod='genres',\n",
    "            production_companies_mod='production_companies',\n",
    "            production_countries_mod='production_countries',\n",
    "            spoken_languages_mod='spoken_languages'))"
   ]
  },
  {
   "cell_type": "code",
   "execution_count": 24,
   "id": "32037779",
   "metadata": {},
   "outputs": [],
   "source": [
    "# creamos las columnas con los meses y dias del release.\n",
    "\n",
    "meses = {'october': 'octubre', 'december': 'diciembre', 'february': 'febrero', 'november': 'noviembre', 'september': 'septiembre',\n",
    "     'may': 'mayo', 'april': 'abril', 'august': 'agosto', 'july': 'julio', 'june': 'junio', 'january': 'enero','march': 'marzo'}\n",
    "\n",
    "dias = {'monday': 'lunes','friday': 'viernes', 'thursday': 'martes', 'wednesday': 'miercoles',\n",
    "     'saturday': 'sabado', 'tuesday': 'jueves', 'sunday': 'domingo'}\n",
    "\n",
    "output['release_month'] = output.release_date.dt.month_name().str.lower().replace(meses)\n",
    "output['release_day'] = output.release_date.dt.day_name().str.lower().replace(dias)"
   ]
  },
  {
   "cell_type": "code",
   "execution_count": 25,
   "id": "1f5f380e",
   "metadata": {},
   "outputs": [],
   "source": [
    "# eliminamos duplicados: consideramos duplicado aquella misma pelicula con un mismo release_year\n",
    "\n",
    "output = output.drop_duplicates(subset=['title', 'release_year'], ignore_index=True)"
   ]
  },
  {
   "cell_type": "code",
   "execution_count": 26,
   "id": "bbb62ada",
   "metadata": {},
   "outputs": [],
   "source": [
    "# lo almacenamos en un formato csv el nuevo dataset\n",
    "\n",
    "output.to_csv('../data/movies_etl.csv', sep=',', index=False, header=True)"
   ]
  },
  {
   "cell_type": "code",
   "execution_count": 27,
   "id": "f504cd80",
   "metadata": {},
   "outputs": [],
   "source": [
    "# base_poster_url = 'http://image.tmdb.org/t/p/w185/'\n",
    "# modify['image_path'] = \"<img src='\" + base_poster_url + modify['poster_path'] + \"' style='height:100px;'>\""
   ]
  }
 ],
 "metadata": {
  "kernelspec": {
   "display_name": "Python 3 (ipykernel)",
   "language": "python",
   "name": "python3"
  },
  "language_info": {
   "codemirror_mode": {
    "name": "ipython",
    "version": 3
   },
   "file_extension": ".py",
   "mimetype": "text/x-python",
   "name": "python",
   "nbconvert_exporter": "python",
   "pygments_lexer": "ipython3",
   "version": "3.10.10"
  }
 },
 "nbformat": 4,
 "nbformat_minor": 5
}
